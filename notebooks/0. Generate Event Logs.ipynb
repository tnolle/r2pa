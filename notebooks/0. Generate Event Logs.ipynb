{
 "cells": [
  {
   "cell_type": "markdown",
   "metadata": {},
   "source": [
    "# Generating Event Logs"
   ]
  },
  {
   "cell_type": "markdown",
   "metadata": {},
   "source": [
    "This notebook generates seven anomalous event logs that can be used in the subsequent notebooks."
   ]
  },
  {
   "cell_type": "code",
   "execution_count": 1,
   "metadata": {},
   "outputs": [
    {
     "data": {
      "application/vnd.jupyter.widget-view+json": {
       "model_id": "5fc79e9665524c94933fb8e55900dacc",
       "version_major": 2,
       "version_minor": 0
      },
      "text/plain": [
       "Output()"
      ]
     },
     "metadata": {},
     "output_type": "display_data"
    }
   ],
   "source": [
    "import os\n",
    "import sys\n",
    "sys.path.append(os.path.dirname(os.getcwd()))\n",
    "\n",
    "from tqdm.notebook import tqdm\n",
    "from ipywidgets import widgets\n",
    "from IPython.display import display\n",
    "\n",
    "from april.fs import get_process_model_files\n",
    "from april.generation import *\n",
    "from april.generation.utils import generate_for_process_model\n",
    "\n",
    "output = widgets.Output()\n",
    "display(output)\n",
    "\n",
    "anomalies = [\n",
    "    SkipSequenceAnomaly(max_sequence_size=2),\n",
    "    ReworkAnomaly(max_distance=5, max_sequence_size=3),\n",
    "    EarlyAnomaly(max_distance=5, max_sequence_size=2),\n",
    "    LateAnomaly(max_distance=5, max_sequence_size=2),\n",
    "    InsertAnomaly(max_inserts=2),\n",
    "    AttributeAnomaly(max_events=3, max_attributes=2)\n",
    "]\n",
    "\n",
    "with output:\n",
    "    process_models = ['small', 'medium', 'large', 'paper', 'gigantic', 'wide', 'p2p']\n",
    "    for process_model in tqdm(process_models, desc='Generate'):\n",
    "        generate_for_process_model(process_model,\n",
    "                                   size=5000,\n",
    "                                   anomalies=anomalies,\n",
    "                                   num_attr=[1],\n",
    "                                   seed=1337)"
   ]
  },
  {
   "cell_type": "code",
   "execution_count": null,
   "metadata": {},
   "outputs": [],
   "source": []
  }
 ],
 "metadata": {
  "kernelspec": {
   "display_name": "nepdis",
   "language": "python",
   "name": "nepdis"
  },
  "language_info": {
   "codemirror_mode": {
    "name": "ipython",
    "version": 3
   },
   "file_extension": ".py",
   "mimetype": "text/x-python",
   "name": "python",
   "nbconvert_exporter": "python",
   "pygments_lexer": "ipython3",
   "version": "3.8.5"
  }
 },
 "nbformat": 4,
 "nbformat_minor": 4
}
