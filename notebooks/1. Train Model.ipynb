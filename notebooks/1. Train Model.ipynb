{
 "cells": [
  {
   "cell_type": "markdown",
   "metadata": {},
   "source": [
    "# Training a Next Event Predictor"
   ]
  },
  {
   "cell_type": "markdown",
   "metadata": {},
   "source": [
    "For discovering a process model, a machine learning model that can predict the next event in a case is required.\n",
    "In the following, we can either train different versions of the BINet or the Transformer model.\n",
    "* *Model*: The type of model to train.\n",
    "* *Event Log*: The event log on which to train the model.\n",
    "* *Use Event Attributes*: Whether to train the model on predicting the event attributes.\n",
    "* *Epochs*: The maximum number of epochs for which to train the model for.\n",
    "* *Batch Size*: The batch size when training.\n",
    "* *Validation Split*: The percentage of training data to use for calculating the validation loss (used for early stopping).\n",
    "* *Patience*: The patience for early stopping.\n",
    "* *Delta*: The minimum delta for early stopping.\n",
    "* *Layers*: The number of encoding layers of the Transformer model.\n",
    "* *Heads*: The number of attention heads for each encoding layer of the Transformer."
   ]
  },
  {
   "cell_type": "code",
   "execution_count": 1,
   "metadata": {
    "jupyter": {
     "source_hidden": true
    }
   },
   "outputs": [
    {
     "data": {
      "application/vnd.jupyter.widget-view+json": {
       "model_id": "7fb43aaac9344cb5a537e277646954f4",
       "version_major": 2,
       "version_minor": 0
      },
      "text/plain": [
       "Output()"
      ]
     },
     "metadata": {},
     "output_type": "display_data"
    },
    {
     "data": {
      "application/vnd.jupyter.widget-view+json": {
       "model_id": "623c3dd453c24a3ea74535064085022a",
       "version_major": 2,
       "version_minor": 0
      },
      "text/plain": [
       "Output()"
      ]
     },
     "metadata": {},
     "output_type": "display_data"
    }
   ],
   "source": [
    "import os\n",
    "import sys\n",
    "sys.path.append(os.path.dirname(os.getcwd()))\n",
    "\n",
    "from ipywidgets import widgets, interact, interact_manual, Layout, Button, Box\n",
    "from IPython.display import display\n",
    "\n",
    "from april.fs import MODEL_DIR, DATE_FORMAT, EVENTLOG_DIR\n",
    "from r2pa.api import routines\n",
    "from april.alignments.binet import BINet\n",
    "from april import Dataset\n",
    "\n",
    "import arrow\n",
    "import os\n",
    "os.environ['TF_CPP_MIN_LOG_LEVEL'] = '3' \n",
    "\n",
    "model_name_widget = widgets.Dropdown(description='Model', options=['BINetV1', 'BINetV2', 'BINetV3', 'Transformer'])\n",
    "event_log_widget = widgets.Dropdown(description='Event Log')\n",
    "batch_size_widget = widgets.IntText(description='Batch Size', value=50)\n",
    "validation_split_widget = widgets.FloatSlider(description='Valid. Split', min=0, max=1, step=0.01, value=0.1)\n",
    "epochs_widget = widgets.IntText(description='Epochs', value=100)\n",
    "patience_widget = widgets.IntText(description='Patience', value=5)\n",
    "delta_widget = widgets.FloatText(description='Delta', value=0.01)\n",
    "number_layers_widget = widgets.IntSlider(description='Layers', min=1, max=6, value=3, disabled=True)\n",
    "number_heads_widget = widgets.IntSlider(description='Heads', min=1, max=6, value=3, disabled=True)\n",
    "event_attributes_widget = widgets.Checkbox(description='Use Event Attributes', value=True)\n",
    "\n",
    "train_button = widgets.Button(description=\"Train\")\n",
    "reload_button = widgets.Button(description=\"Reload Logs\")\n",
    "\n",
    "first_row = widgets.HBox([model_name_widget, event_log_widget, event_attributes_widget])\n",
    "second_row = widgets.HBox([epochs_widget, batch_size_widget, validation_split_widget])\n",
    "third_row = widgets.HBox([patience_widget, delta_widget])\n",
    "fourth_row = widgets.HBox([number_layers_widget, number_heads_widget])\n",
    "fifth_row = widgets.HBox([train_button, reload_button])\n",
    "\n",
    "parameter_gui = widgets.Output()\n",
    "output = widgets.Output()\n",
    "\n",
    "with parameter_gui:\n",
    "    display(widgets.VBox([first_row, second_row, third_row, fourth_row, fifth_row]))\n",
    "\n",
    "def get_all_event_logs():\n",
    "    files = os.listdir(EVENTLOG_DIR)\n",
    "    return [file[0:len(file)-8] for file in files if file[-8:] == '.json.gz']\n",
    "\n",
    "def on_reload(button):\n",
    "    event_log_widget.options = get_all_event_logs()\n",
    "\n",
    "def on_value_change(change):\n",
    "    if change['new'] == 'Transformer':\n",
    "        number_layers_widget.disabled = False\n",
    "        number_heads_widget.disabled = False\n",
    "        number_heads_widget.layout.visibility = 'visible'\n",
    "        number_layers_widget.layout.visibility = 'visible'\n",
    "    else:\n",
    "        number_layers_widget.disabled = True\n",
    "        number_heads_widget.disabled = True\n",
    "        number_heads_widget.layout.visibility = 'hidden'\n",
    "        number_layers_widget.layout.visibility = 'hidden'\n",
    "    \n",
    "number_heads_widget.layout.visibility = 'hidden'\n",
    "number_layers_widget.layout.visibility = 'hidden'\n",
    "model_name_widget.observe(on_value_change, names='value')\n",
    "\n",
    "def train_model(button):\n",
    "    parameters = {'event_log': event_log_widget.value,\n",
    "                  'epochs': int(epochs_widget.value),\n",
    "                  'batch_size': int(batch_size_widget.value),\n",
    "                  'early_stopping_patience': int(patience_widget.value),\n",
    "                  'early_stopping_delta': float(delta_widget.value),\n",
    "                  'validation_split': validation_split_widget.value,\n",
    "                  'use_event_attributes': event_attributes_widget.value,\n",
    "                  'smoothing_extend': 0.0}\n",
    "\n",
    "    start_time = arrow.now()\n",
    "\n",
    "    event_log = parameters['event_log']\n",
    "    dataset = Dataset(event_log, use_event_attributes=parameters['use_event_attributes'], use_case_attributes=False)\n",
    "    \n",
    "    model = model_name_widget.value\n",
    "    \n",
    "    if model == 'Transformer':\n",
    "        parameters['number_layers'] = number_layers_widget.value \n",
    "        parameters['number_heads'] = number_heads_widget.value\n",
    "\n",
    "        output_name = f'{parameters[\"event_log\"]}_{parameters[\"number_layers\"]}TR{parameters[\"number_heads\"]}_{start_time.format(DATE_FORMAT)}'\n",
    "        output_locations = [output_name]\n",
    "        \n",
    "        output.clear_output()\n",
    "        with output:\n",
    "            print(f\"Upon completion of the training, the Transformer will be stored at {MODEL_DIR / output_name}\")\n",
    "            routines.train_transformer(output_locations=output_locations, event_log=event_log, parameters=parameters)\n",
    "    else:\n",
    "        version = int(model[-1])\n",
    "        (present_activity, present_attribute), combination = routines.get_present_setting(version)\n",
    "        binet = BINet(dataset, use_event_attributes=parameters['use_event_attributes'], use_case_attributes=False,\n",
    "                      use_present_activity=present_activity, use_present_attributes=present_attribute)\n",
    "\n",
    "        output_name = f'{event_log}_{binet.name}{combination}_{start_time.format(DATE_FORMAT)}'\n",
    "        output_locations = [output_name]\n",
    "        \n",
    "        output.clear_output()\n",
    "        with output:\n",
    "            print(f\"Upon completion of the training, the BINet will be stored as {output_name}\")\n",
    "            routines.train_binet(output_locations=output_locations, event_log=event_log, version=version, parameters=parameters)\n",
    "\n",
    "\n",
    "train_button.on_click(train_model)\n",
    "reload_button.on_click(on_reload)\n",
    "on_reload(None)\n",
    "\n",
    "display(parameter_gui)\n",
    "display(output)\n"
   ]
  },
  {
   "cell_type": "code",
   "execution_count": null,
   "metadata": {},
   "outputs": [],
   "source": []
  }
 ],
 "metadata": {
  "kernelspec": {
   "display_name": "nepdis",
   "language": "python",
   "name": "nepdis"
  },
  "language_info": {
   "codemirror_mode": {
    "name": "ipython",
    "version": 3
   },
   "file_extension": ".py",
   "mimetype": "text/x-python",
   "name": "python",
   "nbconvert_exporter": "python",
   "pygments_lexer": "ipython3",
   "version": "3.8.5"
  }
 },
 "nbformat": 4,
 "nbformat_minor": 4
}
