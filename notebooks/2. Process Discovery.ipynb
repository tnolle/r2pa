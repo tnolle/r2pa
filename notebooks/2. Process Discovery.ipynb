{
 "cells": [
  {
   "cell_type": "markdown",
   "metadata": {},
   "source": [
    "# Discovering a Process Model using Next Event Predictors"
   ]
  },
  {
   "cell_type": "markdown",
   "metadata": {},
   "source": [
    "In this notebook we discover a process model using the trained next event predictor.\n",
    "\n",
    "* *Event Log*: The event log for which the process model should be discovered.\n",
    "* *Model*: The next event predictor to use. The event log the next event predictor was trained on must match the chosen event log.\n",
    "* *Automatic Threshold*: If checked, the next event threshold is determined automatically.\n",
    "* *Threshold*: The next event threshold to use when no automatic threshold is used. Might fail.\n",
    "* *Use Cache*: Whether to use a cache when generating cases.\n",
    "* *Group Attribute Nodes*: Whether to also group attribute nodes in the process model.\n",
    "* *Use Event Attributes*: Whether to also discover event attributes. Must match the used next event predictor."
   ]
  },
  {
   "cell_type": "code",
   "execution_count": 1,
   "metadata": {
    "jupyter": {
     "source_hidden": true
    }
   },
   "outputs": [
    {
     "data": {
      "application/vnd.jupyter.widget-view+json": {
       "model_id": "d09b45e0d6fa46e495b1672d0460fe8b",
       "version_major": 2,
       "version_minor": 0
      },
      "text/plain": [
       "Output()"
      ]
     },
     "metadata": {},
     "output_type": "display_data"
    },
    {
     "data": {
      "application/vnd.jupyter.widget-view+json": {
       "model_id": "fef8ab2db4c04e148aed1cb423bdda03",
       "version_major": 2,
       "version_minor": 0
      },
      "text/plain": [
       "Output()"
      ]
     },
     "metadata": {},
     "output_type": "display_data"
    }
   ],
   "source": [
    "import os\n",
    "import sys\n",
    "sys.path.append(os.path.dirname(os.getcwd()))\n",
    "\n",
    "from ipywidgets import widgets, interact, interact_manual, Layout, Button, Box\n",
    "from IPython.display import display\n",
    "\n",
    "from april.fs import DATE_FORMAT, EVENTLOG_DIR, MODEL_DIR\n",
    "from r2pa.api import routines\n",
    "\n",
    "import arrow\n",
    "import os\n",
    "\n",
    "\n",
    "event_log_widget = widgets.Dropdown(description='Event Log')\n",
    "model_name_widget = widgets.Dropdown(description='Model')\n",
    "next_event_threshold_widget = widgets.FloatSlider(description='Threshold', min=0, max=1, step=0.01, value=0.1)\n",
    "use_cache_widget = widgets.Checkbox(description='Use Cache', value=True)\n",
    "automatic_threshold_widget = widgets.Checkbox(description='Automatic Threshold', value=False)\n",
    "group_attributes_widget = widgets.Checkbox(description='Group Attribute Nodes', value=False)\n",
    "event_attributes_widget = widgets.Checkbox(description='Use Event Attributes', value=True)\n",
    "\n",
    "reload_button = widgets.Button(description=\"Reload\")\n",
    "discover_button = widgets.Button(description=\"Discover\")\n",
    "\n",
    "first_row = widgets.HBox([event_log_widget, model_name_widget, reload_button])\n",
    "second_row = widgets.HBox([automatic_threshold_widget, next_event_threshold_widget])\n",
    "third_row = widgets.HBox([use_cache_widget, group_attributes_widget, event_attributes_widget])\n",
    "fourth_row = widgets.HBox([discover_button])\n",
    "\n",
    "parameter_gui = widgets.Output()\n",
    "output = widgets.Output()\n",
    "\n",
    "with parameter_gui:\n",
    "    display(widgets.VBox([first_row, second_row, third_row, fourth_row]))\n",
    "\n",
    "def get_all_event_logs():\n",
    "    files = os.listdir(EVENTLOG_DIR)\n",
    "    return [file[0:len(file)-8] for file in files if file[-8:] == '.json.gz']\n",
    "\n",
    "def get_all_models():\n",
    "    files = os.listdir(MODEL_DIR)\n",
    "    return [file[0:len(file)-3] for file in files if file[-3:] == '.h5']\n",
    "\n",
    "def on_value_change(change):\n",
    "    checkbox_value = change['new']\n",
    "    next_event_threshold_widget.disabled = True if checkbox_value else False\n",
    "    next_event_threshold_widget.layout.visibility = 'hidden' if checkbox_value else 'visible'\n",
    "    \n",
    "\n",
    "def on_reload(button):\n",
    "    event_log_widget.options = get_all_event_logs()\n",
    "    model_name_widget.options = get_all_models()\n",
    "\n",
    "automatic_threshold_widget.observe(on_value_change, names='value')\n",
    "\n",
    "def discover_process_model(button):\n",
    "    event_log, model, next_event_threshold = event_log_widget.value, model_name_widget.value, -1 if automatic_threshold_widget.value else next_event_threshold_widget.value \n",
    "    use_cache, group_attribute_nodes, use_event_attributes = use_cache_widget.value, group_attributes_widget.value, event_attributes_widget.value\n",
    "    \n",
    "    start_time = arrow.now()\n",
    "    \n",
    "    output_name = f'results_{event_log}-{model}-{start_time.format(DATE_FORMAT)}-{use_cache}-{group_attribute_nodes}-{next_event_threshold}'\n",
    "    output_locations = [output_name]\n",
    "    \n",
    "    output.clear_output()\n",
    "    with output:\n",
    "        print(f'The discovered process model will be stored as {output_name}')\n",
    "        routines.discovery(output_locations=output_locations, event_log=event_log, model=model, next_event_threshold=next_event_threshold, use_cache=use_cache, group_attribute_nodes=group_attribute_nodes)\n",
    "\n",
    "\n",
    "discover_button.on_click(discover_process_model)\n",
    "reload_button.on_click(on_reload)\n",
    "on_reload(None)\n",
    "\n",
    "display(parameter_gui)\n",
    "display(output)"
   ]
  },
  {
   "cell_type": "code",
   "execution_count": null,
   "metadata": {},
   "outputs": [],
   "source": []
  }
 ],
 "metadata": {
  "kernelspec": {
   "display_name": "ad",
   "language": "python",
   "name": "ad"
  },
  "language_info": {
   "codemirror_mode": {
    "name": "ipython",
    "version": 3
   },
   "file_extension": ".py",
   "mimetype": "text/x-python",
   "name": "python",
   "nbconvert_exporter": "python",
   "pygments_lexer": "ipython3",
   "version": "3.6.12"
  }
 },
 "nbformat": 4,
 "nbformat_minor": 4
}
