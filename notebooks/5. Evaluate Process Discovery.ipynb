{
 "cells": [
  {
   "cell_type": "markdown",
   "metadata": {},
   "source": [
    "# Evaluating Process Discovery"
   ]
  },
  {
   "cell_type": "markdown",
   "metadata": {},
   "source": [
    "Here we evaluate the process model that was discovered using the trained next event predictor.\n",
    "\n",
    "* *Event Log*: The event log for which the process model was discovered for.\n",
    "* *Result*: The results of the process discovery.\n"
   ]
  },
  {
   "cell_type": "code",
   "execution_count": 2,
   "metadata": {},
   "outputs": [
    {
     "data": {
      "application/vnd.jupyter.widget-view+json": {
       "model_id": "e636ff19cbc447528d1430f20e6d2a50",
       "version_major": 2,
       "version_minor": 0
      },
      "text/plain": [
       "Output()"
      ]
     },
     "metadata": {},
     "output_type": "display_data"
    },
    {
     "data": {
      "application/vnd.jupyter.widget-view+json": {
       "model_id": "9c80b61217e6415c82722016fd676187",
       "version_major": 2,
       "version_minor": 0
      },
      "text/plain": [
       "Output()"
      ]
     },
     "metadata": {},
     "output_type": "display_data"
    }
   ],
   "source": [
    "import os\n",
    "import sys\n",
    "sys.path.append(os.path.dirname(os.getcwd()))\n",
    "\n",
    "from ipywidgets import widgets, interact, interact_manual, Layout, Button, Box\n",
    "from IPython.display import display\n",
    "\n",
    "from april.fs import DATE_FORMAT, EVENTLOG_DIR, EVALUATION_DIR\n",
    "from r2pa.api import routines\n",
    "\n",
    "import arrow\n",
    "import os\n",
    "\n",
    "event_log_widget = widgets.Dropdown(description='Event Log')\n",
    "model_name_widget = widgets.Dropdown(description='Result')\n",
    "\n",
    "reload_button = widgets.Button(description=\"Reload\")\n",
    "discover_button = widgets.Button(description=\"Evaluate\")\n",
    "\n",
    "parameter_gui = widgets.Output()\n",
    "output = widgets.Output()\n",
    "\n",
    "with parameter_gui:\n",
    "    display(widgets.VBox([event_log_widget, model_name_widget, widgets.HBox([discover_button, reload_button])]))\n",
    "\n",
    "def get_all_event_logs():\n",
    "    files = os.listdir(EVENTLOG_DIR)\n",
    "    return [file[0:len(file)-8] for file in files if file[-8:] == '.json.gz']\n",
    "\n",
    "def get_all_models():\n",
    "    files = os.listdir(EVALUATION_DIR)\n",
    "    return [file[0:len(file)-7] for file in files if file[-7:] == '.pickle']\n",
    "\n",
    "\n",
    "def on_reload(button):\n",
    "    event_log_widget.options = get_all_event_logs()\n",
    "    model_name_widget.options = get_all_models()\n",
    "\n",
    "def discover_process_model(button):\n",
    "    event_log, model = event_log_widget.value, model_name_widget.value\n",
    "    \n",
    "    start_time = arrow.now()\n",
    "    \n",
    "    output_name = f'{model}_evaluation'\n",
    "    output_locations = [output_name]\n",
    "    \n",
    "    with output:\n",
    "        print(f'The evaluation results will be stored as {output_name}')\n",
    "    with output:\n",
    "        routines.evaluate(output_locations=output_locations, event_log=event_log, file_name=model)\n",
    "\n",
    "discover_button.on_click(discover_process_model)\n",
    "reload_button.on_click(on_reload)\n",
    "on_reload(None)\n",
    "\n",
    "display(parameter_gui)\n",
    "display(output)"
   ]
  },
  {
   "cell_type": "code",
   "execution_count": null,
   "metadata": {
    "jupyter": {
     "source_hidden": true
    }
   },
   "outputs": [],
   "source": []
  },
  {
   "cell_type": "code",
   "execution_count": null,
   "metadata": {},
   "outputs": [],
   "source": []
  }
 ],
 "metadata": {
  "kernelspec": {
   "display_name": "ad",
   "language": "python",
   "name": "ad"
  },
  "language_info": {
   "codemirror_mode": {
    "name": "ipython",
    "version": 3
   },
   "file_extension": ".py",
   "mimetype": "text/x-python",
   "name": "python",
   "nbconvert_exporter": "python",
   "pygments_lexer": "ipython3",
   "version": "3.6.12"
  }
 },
 "nbformat": 4,
 "nbformat_minor": 4
}
