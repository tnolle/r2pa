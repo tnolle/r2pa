{
 "cells": [
  {
   "cell_type": "markdown",
   "metadata": {},
   "source": [
    "# Finding Automatable Procedures"
   ]
  },
  {
   "cell_type": "markdown",
   "metadata": {},
   "source": [
    "With the following code, we can find automatable procedures. In other words, we find sequences of attribute values with high likelihood.\n",
    "* *Process Model*: The process model in which to find automatable procedures.\n",
    "* *Minimum Sequence Length*: The minimum length of an automatable procedure.\n",
    "* *Minimum Edge Likelihood*: The minimum likelihood all attribute values in the procedure must have.\n",
    "\n",
    "To enable scrolling for long data frames, create a new view for the output.\n",
    "\n",
    "Each row in the data frame is a sequence of attribute values that satisfies the specified conditions. In other words, the found sequences are automatable.\\\n",
    "Note that the sequence can be shorter if it includes the final attribute value of a case."
   ]
  },
  {
   "cell_type": "code",
   "execution_count": 2,
   "metadata": {
    "jupyter": {
     "source_hidden": true
    }
   },
   "outputs": [
    {
     "data": {
      "application/vnd.jupyter.widget-view+json": {
       "model_id": "36f874da02814bbb8e5822a6361a75e8",
       "version_major": 2,
       "version_minor": 0
      },
      "text/plain": [
       "Output()"
      ]
     },
     "metadata": {},
     "output_type": "display_data"
    },
    {
     "data": {
      "application/vnd.jupyter.widget-view+json": {
       "model_id": "eb13b9b09e964c94b174fad0943d9723",
       "version_major": 2,
       "version_minor": 0
      },
      "text/plain": [
       "Output()"
      ]
     },
     "metadata": {},
     "output_type": "display_data"
    }
   ],
   "source": [
    "import os\n",
    "import sys\n",
    "sys.path.append(os.path.dirname(os.getcwd()))\n",
    "\n",
    "from ipywidgets import widgets, interact, interact_manual, Layout, Button, Box\n",
    "from IPython.display import display\n",
    "\n",
    "from r2pa.api import routines\n",
    "from april.fs import EVALUATION_DIR\n",
    "\n",
    "import os\n",
    "import pandas as pd\n",
    "\n",
    "\n",
    "pd.set_option('display.max_columns', None)\n",
    "pd.set_option('display.max_rows', None)\n",
    "pd.set_option('display.expand_frame_repr', True)\n",
    "pd.set_option('display.notebook_repr_html', True)\n",
    "\n",
    "\n",
    "parameters_gui = widgets.Output()\n",
    "output = widgets.Output()\n",
    "\n",
    "graph_widget = widgets.Dropdown(description='Process Model')\n",
    "sequence_length_widget = widgets.IntText(description='Minimum Sequence Length', value=2)\n",
    "edge_value_widget = widgets.FloatSlider(description='Minimum Edge Value', min=0, max=1, step=0.01, value=0.8)\n",
    "\n",
    "discover_button = widgets.Button(description=\"Find\")\n",
    "reload_button = widgets.Button(description=\"Reload\")\n",
    "\n",
    "with parameters_gui:\n",
    "    display(widgets.VBox([graph_widget, sequence_length_widget, edge_value_widget, widgets.HBox([discover_button, reload_button])]))\n",
    "\n",
    "\n",
    "def get_all_graphs():\n",
    "    files = os.listdir(EVALUATION_DIR)\n",
    "    return [file[0:len(file)-8] for file in files if file[-8:] == '.gpickle']\n",
    "\n",
    "def on_reload(button):\n",
    "    graph_widget.options = get_all_graphs()\n",
    "\n",
    "\n",
    "def find_automatable_procedures(button):\n",
    "    automatable_procedures = routines.find_automatable_procedures_from_graph(output_locations=[], file_name=graph_widget.value, \n",
    "                                                                             minimum_sequence_length=int(sequence_length_widget.value), minimum_edge_value=edge_value_widget.value)\n",
    "    automatable_procedures_events = [e for e, l in automatable_procedures]\n",
    "    df = pd.DataFrame(automatable_procedures_events)\n",
    "    output.clear_output()\n",
    "    with output:\n",
    "        display(df)\n",
    "\n",
    "discover_button.on_click(find_automatable_procedures)\n",
    "\n",
    "reload_button.on_click(on_reload)\n",
    "on_reload(None)\n",
    "\n",
    "display(parameters_gui)\n",
    "display(output)\n",
    "\n"
   ]
  },
  {
   "cell_type": "code",
   "execution_count": null,
   "metadata": {},
   "outputs": [],
   "source": []
  }
 ],
 "metadata": {
  "kernelspec": {
   "display_name": "ad",
   "language": "python",
   "name": "ad"
  },
  "language_info": {
   "codemirror_mode": {
    "name": "ipython",
    "version": 3
   },
   "file_extension": ".py",
   "mimetype": "text/x-python",
   "name": "python",
   "nbconvert_exporter": "python",
   "pygments_lexer": "ipython3",
   "version": "3.6.12"
  }
 },
 "nbformat": 4,
 "nbformat_minor": 4
}
