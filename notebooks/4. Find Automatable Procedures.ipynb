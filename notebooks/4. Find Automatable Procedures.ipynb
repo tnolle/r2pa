{
 "cells": [
  {
   "cell_type": "markdown",
   "metadata": {},
   "source": [
    "# Finding Automatable Procedures"
   ]
  },
  {
   "cell_type": "markdown",
   "metadata": {},
   "source": [
    "With the following code, we can find automatable procedures. In other words, we find sequences of attribute values with high likelihood.\n",
    "* *Process Model*: The process model in which to find automatable procedures.\n",
    "* *Minimum Sequence Length*: The minimum length of an automatable procedure.\n",
    "* *Minimum Edge Likelihood*: The minimum likelihood all attribute values in the procedure must have.\n",
    "\n",
    "To enable scrolling for long data frames, create a new view for the output."
   ]
  },
  {
   "cell_type": "code",
   "execution_count": 1,
   "metadata": {},
   "outputs": [
    {
     "data": {
      "application/vnd.jupyter.widget-view+json": {
       "model_id": "a74fb2def3bc4194af48ad89b90a3565",
       "version_major": 2,
       "version_minor": 0
      },
      "text/plain": [
       "Output()"
      ]
     },
     "metadata": {},
     "output_type": "display_data"
    },
    {
     "data": {
      "application/vnd.jupyter.widget-view+json": {
       "model_id": "0c9eb6d09ee34281817a6045016ebf91",
       "version_major": 2,
       "version_minor": 0
      },
      "text/plain": [
       "Output()"
      ]
     },
     "metadata": {},
     "output_type": "display_data"
    }
   ],
   "source": [
    "import os\n",
    "import sys\n",
    "sys.path.append(os.path.dirname(os.getcwd()))\n",
    "\n",
    "from ipywidgets import widgets, interact, interact_manual, Layout, Button, Box\n",
    "from IPython.display import display\n",
    "\n",
    "from r2pa.api import routines\n",
    "from april.fs import EVALUATION_DIR\n",
    "\n",
    "import os\n",
    "import pandas as pd\n",
    "\n",
    "\n",
    "pd.set_option('display.max_columns', None)\n",
    "pd.set_option('display.max_rows', None)\n",
    "pd.set_option('display.expand_frame_repr', True)\n",
    "pd.set_option('display.notebook_repr_html', True)\n",
    "\n",
    "\n",
    "parameters_gui = widgets.Output()\n",
    "output = widgets.Output()\n",
    "\n",
    "graph_widget = widgets.Dropdown(description='Process Model')\n",
    "sequence_length_widget = widgets.IntText(description='Minimum Sequence Length', value=2)\n",
    "edge_value_widget = widgets.FloatSlider(description='Minimum Edge Value', min=0, max=1, step=0.01, value=0.8)\n",
    "\n",
    "discover_button = widgets.Button(description=\"Find\")\n",
    "reload_button = widgets.Button(description=\"Reload\")\n",
    "\n",
    "with parameters_gui:\n",
    "    display(widgets.VBox([graph_widget, sequence_length_widget, edge_value_widget, widgets.HBox([discover_button, reload_button])]))\n",
    "\n",
    "\n",
    "def get_all_graphs():\n",
    "    files = os.listdir(EVALUATION_DIR)\n",
    "    return [file[0:len(file)-8] for file in files if file[-8:] == '.gpickle']\n",
    "\n",
    "def on_reload(button):\n",
    "    graph_widget.options = get_all_graphs()\n",
    "\n",
    "\n",
    "def find_automatable_procedures(button):\n",
    "    automatable_procedures = routines.find_automatable_procedures_from_graph(output_locations=[], file_name=graph_widget.value, \n",
    "                                                                             minimum_sequence_length=int(sequence_length_widget.value), minimum_edge_value=edge_value_widget.value)\n",
    "    automatable_procedures_events = [e for e, l in automatable_procedures]\n",
    "    df = pd.DataFrame(automatable_procedures_events)\n",
    "    with output:\n",
    "        display(df)\n",
    "\n",
    "discover_button.on_click(find_automatable_procedures)\n",
    "\n",
    "reload_button.on_click(on_reload)\n",
    "on_reload(None)\n",
    "\n",
    "display(parameters_gui)\n",
    "display(output)\n",
    "\n"
   ]
  },
  {
   "cell_type": "code",
   "execution_count": null,
   "metadata": {},
   "outputs": [],
   "source": []
  }
 ],
 "metadata": {
  "kernelspec": {
   "display_name": "ad",
   "language": "python",
   "name": "ad"
  },
  "language_info": {
   "codemirror_mode": {
    "name": "ipython",
    "version": 3
   },
   "file_extension": ".py",
   "mimetype": "text/x-python",
   "name": "python",
   "nbconvert_exporter": "python",
   "pygments_lexer": "ipython3",
   "version": "3.6.12"
  }
 },
 "nbformat": 4,
 "nbformat_minor": 4
}
